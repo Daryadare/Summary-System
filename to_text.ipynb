{
 "cells": [
  {
   "metadata": {
    "ExecuteTime": {
     "end_time": "2024-06-15T20:58:20.137942Z",
     "start_time": "2024-06-15T20:58:20.125746Z"
    }
   },
   "cell_type": "code",
   "source": "import os",
   "id": "ad9e944e73d6395a",
   "outputs": [],
   "execution_count": 3
  },
  {
   "metadata": {},
   "cell_type": "code",
   "outputs": [],
   "execution_count": 1,
   "source": "res_whisper = \"Тема сегодняшней лекции – типы данных в Python для начинающих. Какие бывают и как с ними работать? Python – это объектно-ориентированный язык программирования. Его основу составляют объекты и классы. Объект – это область памяти компьютера, которая описывается типом, он же называется классом, и значением.\"",
   "id": "35ed29623f1c6e07"
  },
  {
   "metadata": {},
   "cell_type": "code",
   "outputs": [],
   "execution_count": 2,
   "source": "res_t5 = 'Тема сегодняшней лекции – типы данных в Python для начинающих. Какие бывают и как с ними работать? Python – это объектно-ориентированный язык программирования. Его основу составляют объекты и классы.'",
   "id": "3fa8ffd5b6dc33a7"
  },
  {
   "cell_type": "code",
   "id": "initial_id",
   "metadata": {
    "collapsed": true,
    "ExecuteTime": {
     "end_time": "2024-06-15T20:58:40.869373Z",
     "start_time": "2024-06-15T20:58:40.855791Z"
    }
   },
   "source": [
    "exist_dir = os.path.dirname(\"C:/sys_work/Summary-System/audio_data_types.ogg\")\n",
    "new_dir_name = '/lecture_resumes'\n",
    "new_dir_path = exist_dir+new_dir_name\n",
    "if not os.path.exists(new_dir_path):\n",
    "    os.mkdir(new_dir_path)\n",
    "print(new_dir_path)"
   ],
   "outputs": [
    {
     "name": "stdout",
     "output_type": "stream",
     "text": [
      "C:/sys_work/Summary-System/lecture_resumes\n"
     ]
    }
   ],
   "execution_count": 4
  },
  {
   "metadata": {},
   "cell_type": "code",
   "source": [
    "from datetime import date\n",
    "today = str(date.today())\n",
    "today"
   ],
   "id": "6de41cec2a1c1720",
   "outputs": [
    {
     "data": {
      "text/plain": [
       "'2024-04-30'"
      ]
     },
     "execution_count": 7,
     "metadata": {},
     "output_type": "execute_result"
    }
   ],
   "execution_count": 7
  },
  {
   "metadata": {
    "ExecuteTime": {
     "end_time": "2024-04-30T18:59:13.114035Z",
     "start_time": "2024-04-30T18:59:13.098384Z"
    }
   },
   "cell_type": "code",
   "source": "new_file_name = new_dir_path+'/lecture-'+today",
   "id": "c529b2b65a98df7b",
   "outputs": [],
   "execution_count": 8
  },
  {
   "metadata": {
    "ExecuteTime": {
     "end_time": "2024-04-30T18:59:14.517336Z",
     "start_time": "2024-04-30T18:59:14.486680Z"
    }
   },
   "cell_type": "code",
   "source": "new_file_name",
   "id": "242c57364da56208",
   "outputs": [
    {
     "data": {
      "text/plain": [
       "'C:/sys_work/Summary-System/lecture_resumes/lecture-2024-04-30'"
      ]
     },
     "execution_count": 9,
     "metadata": {},
     "output_type": "execute_result"
    }
   ],
   "execution_count": 9
  },
  {
   "metadata": {
    "ExecuteTime": {
     "end_time": "2024-04-30T18:59:17.236083Z",
     "start_time": "2024-04-30T18:59:17.203620Z"
    }
   },
   "cell_type": "code",
   "source": [
    "with open(new_file_name, 'w') as file:\n",
    "    file.write(res_t5 + '\\n\\n')\n",
    "    file.write(res_whisper + '\\n\\n')\n",
    "\n",
    "file.close()"
   ],
   "id": "a1691dab582c9a7f",
   "outputs": [],
   "execution_count": 10
  },
  {
   "metadata": {},
   "cell_type": "code",
   "execution_count": null,
   "source": "",
   "id": "5da4242ec1e542a2",
   "outputs": []
  }
 ],
 "metadata": {
  "kernelspec": {
   "display_name": "Python 3",
   "language": "python",
   "name": "python3"
  },
  "language_info": {
   "codemirror_mode": {
    "name": "ipython",
    "version": 2
   },
   "file_extension": ".py",
   "mimetype": "text/x-python",
   "name": "python",
   "nbconvert_exporter": "python",
   "pygments_lexer": "ipython2",
   "version": "2.7.6"
  }
 },
 "nbformat": 4,
 "nbformat_minor": 5
}
