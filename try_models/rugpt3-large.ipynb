{
 "cells": [
  {
   "metadata": {
    "ExecuteTime": {
     "end_time": "2024-06-13T22:15:58.327921Z",
     "start_time": "2024-06-13T22:15:49.778626Z"
    }
   },
   "cell_type": "code",
   "source": "from transformers import GPT2LMHeadModel, GPT2Tokenizer",
   "id": "43c47efc97bf407a",
   "outputs": [],
   "execution_count": 1
  },
  {
   "metadata": {
    "ExecuteTime": {
     "end_time": "2024-06-13T22:16:13.813674Z",
     "start_time": "2024-06-13T22:16:13.797599Z"
    }
   },
   "cell_type": "code",
   "source": [
    "def load_tokenizer_and_model(model_name_or_path):\n",
    "    return (GPT2Tokenizer.from_pretrained(model_name_or_path), \n",
    "            GPT2LMHeadModel.from_pretrained(model_name_or_path))\n",
    "\n",
    "\n",
    "def generate(\n",
    "        model, tok, text,\n",
    "        do_sample=True, max_length=200, repetition_penalty=5.0,\n",
    "        top_k=5, top_p=0.95, temperature=1,\n",
    "        num_beams=None,\n",
    "        no_repeat_ngram_size=2\n",
    "):\n",
    "    input_ids = tok.encode(text, return_tensors=\"pt\")\n",
    "    out = model.generate(\n",
    "        input_ids,\n",
    "        max_length=max_length,\n",
    "        repetition_penalty=repetition_penalty,\n",
    "        do_sample=do_sample,\n",
    "        top_k=top_k, top_p=top_p, temperature=temperature,\n",
    "        num_beams=num_beams, no_repeat_ngram_size=no_repeat_ngram_size\n",
    "    )\n",
    "    return list(map(tok.decode, out))"
   ],
   "id": "ae21a140c5617b3b",
   "outputs": [],
   "execution_count": 2
  },
  {
   "metadata": {
    "ExecuteTime": {
     "end_time": "2024-06-13T22:16:39.842688Z",
     "start_time": "2024-06-13T22:16:31.261575Z"
    }
   },
   "cell_type": "code",
   "source": "tok, model = load_tokenizer_and_model(\"sberbank-ai/rugpt3large_based_on_gpt2\")",
   "id": "1cea3d357225dac",
   "outputs": [
    {
     "name": "stderr",
     "output_type": "stream",
     "text": [
      "C:\\Users\\User\\anaconda3\\lib\\site-packages\\huggingface_hub\\file_download.py:1132: FutureWarning: `resume_download` is deprecated and will be removed in version 1.0.0. Downloads always resume when possible. If you want to force a new download, use `force_download=True`.\n",
      "  warnings.warn(\n"
     ]
    }
   ],
   "execution_count": 3
  },
  {
   "metadata": {
    "ExecuteTime": {
     "end_time": "2024-06-13T22:18:46.683719Z",
     "start_time": "2024-06-13T22:16:41.488572Z"
    }
   },
   "cell_type": "code",
   "source": [
    "generated = generate(model, tok, \"Какой тип данных занимает меньше памяти в python: int или float?\", num_beams=10)\n",
    "generated[0]"
   ],
   "id": "11555eb78a793744",
   "outputs": [
    {
     "data": {
      "text/plain": [
       "'Какой тип данных занимает меньше памяти в python: int или float?\\nПользователи часто задаются вопросом о том, какие типы данных занимают больше памяти. В этой статье мы постараемся ответить на этот вопрос и дать несколько полезных советов по работе с этими типами данных.\\nДля начала давайте определимся с тем, что же такое «тип данных». Как правило, под этим термином подразумевают информацию, которая хранится в каком-либо устройстве (компьютере, планшете, смартфоне). Типы данных могут быть как текстовыми, так и цифровыми — это зависит от того, какое устройство вы используете для их хранения. Например, если у вас есть смартфон, то вам не нужно будет запоминать все те данные, которые будут храниться в вашем мобильном устройстве. Вы просто будете иметь доступ к этому устройству из любого места, где бы вы его ни использовали. Таким образом, чем больше типов данных хранит ваше устройство, тем лучше оно справляется со своими функциями.'"
      ]
     },
     "execution_count": 4,
     "metadata": {},
     "output_type": "execute_result"
    }
   ],
   "execution_count": 4
  },
  {
   "metadata": {
    "ExecuteTime": {
     "end_time": "2024-06-13T22:24:53.781633Z",
     "start_time": "2024-06-13T22:23:42.465243Z"
    }
   },
   "cell_type": "code",
   "source": [
    "generated = generate(model, tok, \"Какой тип данных занимает меньше памяти в python: int или float?\", num_beams=5)\n",
    "generated[0]"
   ],
   "id": "9bb2db246e32dedd",
   "outputs": [
    {
     "data": {
      "text/plain": [
       "'Какой тип данных занимает меньше памяти в python: int или float?\\nПользовательские типы данных занимают больше памяти, чем операторы присваивания. Это связано с тем, что они более устойчивы к ошибкам и могут быть легко заменены другими типами данных. Например, если вы хотите изменить значение переменной (например, добавить новую строку), вам не нужно создавать новый массив для каждой новой строки. Вы можете просто заменить все значения из массива на те, которые уже есть в массиве. Таким образом, у вас будет достаточно места для того, чтобы использовать несколько типов данных одновременно.\\nКаким типом данных я могу воспользоваться при написании скрипта?\\nВы можете использовать два типа данных во время работы над вашим скриптом. Во-первых, это может быть обычный текстовый файл, а во-вторых, он может содержать информацию о том, как работает ваш скрипт. В этом случае мы будем называть его «текстовым файлом». Текстовые файлы обычно используются'"
      ]
     },
     "execution_count": 5,
     "metadata": {},
     "output_type": "execute_result"
    }
   ],
   "execution_count": 5
  },
  {
   "metadata": {
    "ExecuteTime": {
     "end_time": "2024-06-13T22:27:10.434885Z",
     "start_time": "2024-06-13T22:25:28.661428Z"
    }
   },
   "cell_type": "code",
   "source": [
    "generated = generate(model, tok, \"Какие языки программирования поддерживают динамическую типизацию?\",\n",
    "                     num_beams=10)\n",
    "generated[0]"
   ],
   "id": "ec600610bf79d00b",
   "outputs": [
    {
     "data": {
      "text/plain": [
       "'Какие языки программирования поддерживают динамическую типизацию?\\nДинамическая типизация - это метод, который используется в программировании для того, чтобы сделать программный код более гибким и адаптивным к изменяющимся условиям окружающей среды.<s>\\nЧто делать если я не могу зайти на сервер майнкрафт 1.5.2?\\nПопробуй переустановить игру или скачай другой репак (если он у тебя есть), а так же проверь компьютер на вирусы антивирусом каспером. Если все равно не получается то обратись к админам сервера где ты играешь! Они должны знать как исправить эту проблему! А вообще советую скачать другую версию Майнкрафта с сайта майкрософта [ссылка заблокирована по решению администрации проекта] Там очень много интересных скриншотов и видеоуроков которые помогут тебе разобраться во всех тонкостях этого замечательного онлайн-геймплейного экшен-платформенного симулятора'"
      ]
     },
     "execution_count": 6,
     "metadata": {},
     "output_type": "execute_result"
    }
   ],
   "execution_count": 6
  },
  {
   "metadata": {
    "ExecuteTime": {
     "end_time": "2024-06-13T22:28:24.607873Z",
     "start_time": "2024-06-13T22:27:10.434885Z"
    }
   },
   "cell_type": "code",
   "source": [
    "generated = generate(model, tok, \"Какие языки программирования поддерживают динамическую типизацию?\",\n",
    "                     num_beams=5)\n",
    "generated[0]"
   ],
   "id": "9e5c37cc6b0022",
   "outputs": [
    {
     "data": {
      "text/plain": [
       "'Какие языки программирования поддерживают динамическую типизацию?\\nДинамическая типизация (англ. dynamic typing) — один из методов машинного обучения, разработанный в 1980-х годах американскими учёными Ричардом Гуггенхаймом и Стивеном Вайнбергом. Суть метода заключается в том, что на основе множества входных данных строится алгоритм, который затем сравнивается с эталонным алгоритмом для того, чтобы получить более точное представление об объекте или явлении.<s>\\nВ каких случаях можно отказаться от страховки по кредиту при досрочном погашении кредита?\\nОтказаться от страховой премии вы можете только в одном случае - если кредит был оформлен под залог имущества заемщика. В этом случае страховая премия выплачивается за вычетом стоимости заложенного имущества. Если же речь идет о потребительском кредите, то отказ от страхования никак не повлияет на размер переплаты: она все равно будет рассчитываться исходя из ставки рефинансирования Центробанка Российской Федерации.'"
      ]
     },
     "execution_count": 7,
     "metadata": {},
     "output_type": "execute_result"
    }
   ],
   "execution_count": 7
  },
  {
   "metadata": {},
   "cell_type": "code",
   "execution_count": null,
   "source": "",
   "id": "6178ff2c35da191b",
   "outputs": []
  }
 ],
 "metadata": {
  "kernelspec": {
   "display_name": "Python 3",
   "language": "python",
   "name": "python3"
  },
  "language_info": {
   "codemirror_mode": {
    "name": "ipython",
    "version": 2
   },
   "file_extension": ".py",
   "mimetype": "text/x-python",
   "name": "python",
   "nbconvert_exporter": "python",
   "pygments_lexer": "ipython2",
   "version": "2.7.6"
  }
 },
 "nbformat": 4,
 "nbformat_minor": 5
}
