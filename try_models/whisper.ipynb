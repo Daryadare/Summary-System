{
 "cells": [
  {
   "metadata": {
    "ExecuteTime": {
     "end_time": "2024-03-31T10:53:41.868557Z",
     "start_time": "2024-03-31T10:53:28.282168Z"
    }
   },
   "cell_type": "code",
   "source": [
    "import torch\n",
    "from transformers import AutoModelForSpeechSeq2Seq, AutoProcessor, pipeline"
   ],
   "id": "51b4bc8da1a66e02",
   "outputs": [],
   "execution_count": 1
  },
  {
   "cell_type": "code",
   "id": "initial_id",
   "metadata": {
    "collapsed": true,
    "ExecuteTime": {
     "end_time": "2024-05-30T22:57:35.801963Z",
     "start_time": "2024-05-30T22:57:14.110963Z"
    }
   },
   "source": [
    "device = \"cuda:0\" if torch.cuda.is_available() else \"cpu\"\n",
    "torch_dtype = torch.float16 if torch.cuda.is_available() else torch.float32\n",
    "\n",
    "model_id = \"openai/whisper-large-v3\"\n",
    "\n",
    "model = AutoModelForSpeechSeq2Seq.from_pretrained(\n",
    "    model_id, torch_dtype=torch_dtype, low_cpu_mem_usage=True, use_safetensors=True\n",
    ")\n",
    "model.to(device)\n",
    "\n",
    "processor = AutoProcessor.from_pretrained(model_id)"
   ],
   "outputs": [
    {
     "name": "stderr",
     "output_type": "stream",
     "text": [
      "Special tokens have been added in the vocabulary, make sure the associated word embeddings are fine-tuned or trained.\n"
     ]
    }
   ],
   "execution_count": 3
  },
  {
   "metadata": {
    "ExecuteTime": {
     "end_time": "2024-05-30T23:02:30.899803Z",
     "start_time": "2024-05-30T22:57:46.582318Z"
    }
   },
   "cell_type": "code",
   "source": [
    "pipe = pipeline(\n",
    "    \"automatic-speech-recognition\",\n",
    "    model=model,\n",
    "    tokenizer=processor.tokenizer,\n",
    "    feature_extractor=processor.feature_extractor,\n",
    "    max_new_tokens=64,\n",
    "    chunk_length_s=32,\n",
    "    batch_size=16,\n",
    "    return_timestamps=True,\n",
    "    torch_dtype=torch_dtype,\n",
    "    device=device,\n",
    ")\n",
    "\n",
    "result = pipe('C:/ressys/typification.mp3')\n",
    "print(result[\"text\"])"
   ],
   "id": "76f06eef33d7c7a5",
   "outputs": [
    {
     "name": "stderr",
     "output_type": "stream",
     "text": [
      "Due to a bug fix in https://github.com/huggingface/transformers/pull/28687 transcription using a multilingual Whisper will default to language detection followed by transcription instead of translation to English.This might be a breaking change for your use case. If you want to instead always translate your audio to English, make sure to pass `language='en'`.\n",
      "Whisper did not predict an ending timestamp, which can happen if audio is cut off in the middle of a word. Also make sure WhisperTimeStampLogitsProcessor was used during generation.\n"
     ]
    },
    {
     "name": "stdout",
     "output_type": "stream",
     "text": [
      " Язык программирования Python является типизированным языком. Типизация языка помогает разработчику создавать более надежные и удобные программы, обеспечивает улучшенную опическая типизация позволяет определять и изменять тип переменных во время выполнения программы, в отличие от статической, при которой типом данных. Например, переменная x инициализируется как целое число int, затем переопределяется как строка str и после как список list. Строгая типизация обеспечивается или требует явного приведения типов. Например, переменная x имеет тип данных int, а переменная y – str, то есть строка. Попытка выполнить сложение между перем, Python автоматически приведет x к типу float и выполнит сложение. Хотя Python и является строго типизированным языком, он обладает гибкостью динамической типизации,\n"
     ]
    }
   ],
   "execution_count": 4
  },
  {
   "metadata": {
    "ExecuteTime": {
     "end_time": "2024-05-30T23:14:04.703397Z",
     "start_time": "2024-05-30T23:10:05.686758Z"
    }
   },
   "cell_type": "code",
   "source": [
    "pipe = pipeline(\n",
    "    \"automatic-speech-recognition\",\n",
    "    model=model,\n",
    "    tokenizer=processor.tokenizer,\n",
    "    feature_extractor=processor.feature_extractor,\n",
    "    max_new_tokens=256,\n",
    "    chunk_length_s=32,\n",
    "    batch_size=16,\n",
    "    return_timestamps=True,\n",
    "    torch_dtype=torch_dtype,\n",
    "    device=device,\n",
    ")\n",
    "\n",
    "result = pipe('C:/ressys/typification.mp3',\n",
    "              generate_kwargs={\"language\": \"russian\"},\n",
    "              return_timestamps=True)\n",
    "print(result[\"chunks\"])"
   ],
   "id": "dc02ff98bec9c32a",
   "outputs": [
    {
     "name": "stdout",
     "output_type": "stream",
     "text": [
      "[{'timestamp': (0.46, 4.68), 'text': ' Язык программирования Python является типизированным языком.'}, {'timestamp': (5.16, 9.54), 'text': ' Типизация языка помогает разработчику создавать более надежные и удобные программы,'}, {'timestamp': (9.64, 13.52), 'text': ' обеспечивает улучшенную оптимизацию, производительность и безопасность кода.'}, {'timestamp': (14.02, 16.88), 'text': ' Каждый типизированный язык создается для конкретных целей,'}, {'timestamp': (17.24, 21.0), 'text': ' поэтому языки программирования стали отличаться по своим методам типизации.'}, {'timestamp': (21.46, 24.82), 'text': ' Типизация в Python является динамической и строгой.'}, {'timestamp': (25.32, 30.69), 'text': ' Динамическая типизация позволяет определять и изменять тип переменных во время выполнения программы,'}, {'timestamp': (30.97, 36.83), 'text': ' в отличие от статической, при которой типы данных определяются на этапе компиляции и не подлежат изменениям.'}, {'timestamp': (36.95, 40.25), 'text': ' Динамическая типизация позволяет уменьшить сложность кода,'}, {'timestamp': (40.65, 44.79), 'text': ' но при этом возрастает риск появления ошибок, связанных с неправильным типом данных.'}, {'timestamp': (45.37, 49.15), 'text': ' Например, переменная x инициализируется как целое число int,'}, {'timestamp': (49.15, 56.71), 'text': ' затем переопределяется как строка str и после как список list. Строгая типизация обеспечивается'}, {'timestamp': (56.71, 62.17), 'text': ' соблюдением необходимых правил при взаимодействии с разными типами данных. Операции между разными'}, {'timestamp': (62.17, 69.5), 'text': ' видами данных обычно запрещены или требуют явного приведения типов. Например, переменная x имеет тип данных int,'}, {'timestamp': (69.74, 72.46), 'text': ' а переменная y – str, то есть строка.'}, {'timestamp': (72.92, 75.86), 'text': ' Попытка выполнить сложение между переменными разных типов'}, {'timestamp': (75.86, 77.34), 'text': ' приведет к ошибке type error,'}, {'timestamp': (77.76, 81.02), 'text': ' так как Python следит за соблюдением правил типизации.'}, {'timestamp': (82.3, 85.06), 'text': ' Например, при сложении целого числа x – int'}, {'timestamp': (85.06, 88.0), 'text': ' и числа с плавающей точкой y – float,'}, {'timestamp': (88.0, 92.21), 'text': ' Python автоматически приведет x к типу float и выполнит сложение.'}, {'timestamp': (92.67, 97.79), 'text': ' Хотя Python и является строго типизированным языком, он обладает гибкостью динамической типизации,'}, {'timestamp': (98.13, 102.67), 'text': ' что позволяет разработчику преобразовывать типы данных, используя функции приведения типов,'}, {'timestamp': (102.99, 104.99), 'text': ' такие как int, float и другие.'}]\n"
     ]
    }
   ],
   "execution_count": 5
  },
  {
   "metadata": {
    "ExecuteTime": {
     "end_time": "2024-05-30T23:20:44.242164Z",
     "start_time": "2024-05-30T23:17:24.433638Z"
    }
   },
   "cell_type": "code",
   "source": [
    "pipe = pipeline(\n",
    "    \"automatic-speech-recognition\",\n",
    "    model=model,\n",
    "    tokenizer=processor.tokenizer,\n",
    "    feature_extractor=processor.feature_extractor,\n",
    "    max_new_tokens=128,\n",
    "    chunk_length_s=32,\n",
    "    batch_size=16,\n",
    "    return_timestamps=True,\n",
    "    torch_dtype=torch_dtype,\n",
    "    device=device,\n",
    ")\n",
    "\n",
    "result = pipe('C:/ressys/typification.mp3',\n",
    "              generate_kwargs={\"language\": \"russian\"},\n",
    "              return_timestamps=True)\n",
    "print(result)"
   ],
   "id": "ccd36e461e088752",
   "outputs": [
    {
     "name": "stdout",
     "output_type": "stream",
     "text": [
      "{'text': ' Язык программирования Python является типизированным языком. Типизация языка помогает разработчику создавать более надежные и удобные программы, обеспечивает улучшенную оптимизацию, производительность и безопасность кода. Каждый типизированный язык создается для конкретных целей, поэтому языки программирования стали отличаться по своим методам типизации. Типизация в Python является динамической и строгой. Динамическая типизация позволяет определять и изменять тип переменных во время выполнения программы, в отличие от статической, при которой типы данных определяются на этапе компиляции и не подлежат изменениям. Динамическая типизация позволяет уменьшить сложность кода, но при этом возрастает риск появления ошибок, связанных с неправильным типом данных. Например, переменная x инициализируется как целое число int, затем переопределяется как строка str и после как список list. Строгая типизация обеспечивается соблюдением необходимых правил при взаимодействии с разными типами данных. Операции между разными видами данных обычно запрещены или требуют явного приведения типов. Например, переменная x имеет тип данных int, а переменная y – str, то есть строка. Попытка выполнить сложение между переменными разных типов приведет к ошибке type error, так как Python следит за соблюдением правил типизации. Например, при сложении целого числа x – int и числа с плавающей точкой y – float, Python автоматически приведет x к типу float и выполнит сложение. Хотя Python и является строго типизированным языком, он обладает гибкостью динамической типизации, что позволяет разработчику преобразовывать типы данных, используя функции приведения типов, такие как int, float и другие.', 'chunks': [{'timestamp': (0.46, 4.68), 'text': ' Язык программирования Python является типизированным языком.'}, {'timestamp': (5.16, 9.54), 'text': ' Типизация языка помогает разработчику создавать более надежные и удобные программы,'}, {'timestamp': (9.64, 13.52), 'text': ' обеспечивает улучшенную оптимизацию, производительность и безопасность кода.'}, {'timestamp': (14.02, 16.88), 'text': ' Каждый типизированный язык создается для конкретных целей,'}, {'timestamp': (17.24, 21.0), 'text': ' поэтому языки программирования стали отличаться по своим методам типизации.'}, {'timestamp': (21.46, 30.69), 'text': ' Типизация в Python является динамической и строгой. Динамическая типизация позволяет определять и изменять тип переменных во время выполнения программы,'}, {'timestamp': (30.97, 36.83), 'text': ' в отличие от статической, при которой типы данных определяются на этапе компиляции и не подлежат изменениям.'}, {'timestamp': (36.95, 40.25), 'text': ' Динамическая типизация позволяет уменьшить сложность кода,'}, {'timestamp': (40.65, 49.15), 'text': ' но при этом возрастает риск появления ошибок, связанных с неправильным типом данных. Например, переменная x инициализируется как целое число int,'}, {'timestamp': (49.15, 56.71), 'text': ' затем переопределяется как строка str и после как список list. Строгая типизация обеспечивается'}, {'timestamp': (56.71, 62.17), 'text': ' соблюдением необходимых правил при взаимодействии с разными типами данных. Операции между разными'}, {'timestamp': (62.17, 69.5), 'text': ' видами данных обычно запрещены или требуют явного приведения типов. Например, переменная x имеет тип данных int,'}, {'timestamp': (69.74, 72.46), 'text': ' а переменная y – str, то есть строка.'}, {'timestamp': (72.92, 75.86), 'text': ' Попытка выполнить сложение между переменными разных типов'}, {'timestamp': (75.86, 77.34), 'text': ' приведет к ошибке type error,'}, {'timestamp': (77.76, 81.02), 'text': ' так как Python следит за соблюдением правил типизации.'}, {'timestamp': (82.3, 85.06), 'text': ' Например, при сложении целого числа x – int'}, {'timestamp': (85.06, 92.21), 'text': ' и числа с плавающей точкой y – float, Python автоматически приведет x к типу float и выполнит сложение.'}, {'timestamp': (92.67, 97.79), 'text': ' Хотя Python и является строго типизированным языком, он обладает гибкостью динамической типизации,'}, {'timestamp': (98.13, 102.67), 'text': ' что позволяет разработчику преобразовывать типы данных, используя функции приведения типов,'}, {'timestamp': (102.99, 104.99), 'text': ' такие как int, float и другие.'}]}\n"
     ]
    }
   ],
   "execution_count": 6
  },
  {
   "metadata": {},
   "cell_type": "code",
   "outputs": [],
   "execution_count": null,
   "source": "",
   "id": "b5d616fd72839666"
  }
 ],
 "metadata": {
  "kernelspec": {
   "display_name": "Python 3",
   "language": "python",
   "name": "python3"
  },
  "language_info": {
   "codemirror_mode": {
    "name": "ipython",
    "version": 2
   },
   "file_extension": ".py",
   "mimetype": "text/x-python",
   "name": "python",
   "nbconvert_exporter": "python",
   "pygments_lexer": "ipython2",
   "version": "2.7.6"
  }
 },
 "nbformat": 4,
 "nbformat_minor": 5
}
