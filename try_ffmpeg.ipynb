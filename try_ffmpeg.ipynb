{
 "cells": [
  {
   "metadata": {
    "ExecuteTime": {
     "end_time": "2024-06-15T20:22:17.671505Z",
     "start_time": "2024-06-15T20:22:17.652173Z"
    }
   },
   "cell_type": "code",
   "source": [
    "import ffmpeg\n",
    "import os\n",
    "import re"
   ],
   "id": "3be3139017d8a099",
   "outputs": [],
   "execution_count": 4
  },
  {
   "metadata": {
    "ExecuteTime": {
     "end_time": "2024-06-15T20:21:48.219609Z",
     "start_time": "2024-06-15T20:21:48.203429Z"
    }
   },
   "cell_type": "code",
   "source": [
    "def do_ffmpeg(filepath: str):\n",
    "    fp_slash = re.sub(r'\\\\', r'/', filepath)\n",
    "    fdir = os.path.dirname(fp_slash)\n",
    "    fn_full = os.path.basename(fp_slash)\n",
    "    fn = re.split(r\"\\.\", fn_full)[0]\n",
    "    \n",
    "    (\n",
    "        ffmpeg.input(fp_slash)\n",
    "        .output(f'{fn}.mp3')\n",
    "        .run()\n",
    "    )\n",
    "    \n",
    "    new_filepath = fdir + f'/{fn}.mp3'\n",
    "    return new_filepath"
   ],
   "id": "c9693b98eb26fb07",
   "outputs": [],
   "execution_count": 2
  },
  {
   "metadata": {
    "ExecuteTime": {
     "end_time": "2024-06-15T20:22:38.260435Z",
     "start_time": "2024-06-15T20:22:22.057191Z"
    }
   },
   "cell_type": "code",
   "source": [
    "filepath = str(input('Введите путь к аудио- или видеофайлу: '))\n",
    "path_aft_ffmpeg = do_ffmpeg(filepath)\n",
    "print('Ваши данные были успешно преобразованы')"
   ],
   "id": "3b8f34156dabacdb",
   "outputs": [
    {
     "name": "stdout",
     "output_type": "stream",
     "text": [
      "Ваши данные были успешно преобразованы\n"
     ]
    }
   ],
   "execution_count": 5
  },
  {
   "metadata": {
    "ExecuteTime": {
     "end_time": "2024-06-15T20:22:40.645693Z",
     "start_time": "2024-06-15T20:22:40.622599Z"
    }
   },
   "cell_type": "code",
   "source": "path_aft_ffmpeg",
   "id": "786763552c88f7ad",
   "outputs": [
    {
     "data": {
      "text/plain": [
       "'C:/sys_work/Summary-System/audio_data_types.mp3'"
      ]
     },
     "execution_count": 6,
     "metadata": {},
     "output_type": "execute_result"
    }
   ],
   "execution_count": 6
  },
  {
   "metadata": {
    "ExecuteTime": {
     "end_time": "2024-06-15T20:12:18.904530Z",
     "start_time": "2024-06-15T20:12:18.888904Z"
    }
   },
   "cell_type": "code",
   "source": [
    "print(os.path.basename(\"C:/sys_work/Summary-System/audio_data_types.ogg\"))\n",
    "print(os.path.dirname(\"C:/sys_work/Summary-System/audio_data_types.ogg\"))"
   ],
   "id": "4185c693c945b8be",
   "outputs": [
    {
     "name": "stdout",
     "output_type": "stream",
     "text": [
      "audio_data_types.ogg\n",
      "C:/sys_work/Summary-System\n"
     ]
    }
   ],
   "execution_count": 4
  },
  {
   "metadata": {
    "ExecuteTime": {
     "end_time": "2024-06-15T20:12:21.078933Z",
     "start_time": "2024-06-15T20:12:21.054787Z"
    }
   },
   "cell_type": "code",
   "source": [
    "fn = 'audio_data_types.ogg'\n",
    "dir_name = 'C:/sys_work/Summary-System/audio_data_types.ogg'\n",
    "print(dir_name[:dir_name.find(f'/{fn}')])"
   ],
   "id": "f8d1688de92d66da",
   "outputs": [
    {
     "name": "stdout",
     "output_type": "stream",
     "text": [
      "C:/sys_work/Summary-System\n"
     ]
    }
   ],
   "execution_count": 5
  },
  {
   "metadata": {
    "ExecuteTime": {
     "end_time": "2024-06-15T20:12:26.538483Z",
     "start_time": "2024-06-15T20:12:26.522900Z"
    }
   },
   "cell_type": "code",
   "source": "print(os.path.dirname(\"C:/sys_work/Summary-System/audio_data_types.ogg\"))",
   "id": "121651d477105d3b",
   "outputs": [
    {
     "name": "stdout",
     "output_type": "stream",
     "text": [
      "C:/sys_work/Summary-System\n"
     ]
    }
   ],
   "execution_count": 6
  },
  {
   "metadata": {
    "ExecuteTime": {
     "end_time": "2024-06-15T20:12:27.857217Z",
     "start_time": "2024-06-15T20:12:27.841591Z"
    }
   },
   "cell_type": "code",
   "source": "print(os.path.basename(os.path.realpath(\"C:/sys_work/Summary-System/audio_data_types.ogg\")))",
   "id": "44eacb99aaae33d9",
   "outputs": [
    {
     "name": "stdout",
     "output_type": "stream",
     "text": [
      "audio_data_types.ogg\n"
     ]
    }
   ],
   "execution_count": 7
  },
  {
   "metadata": {
    "ExecuteTime": {
     "end_time": "2024-06-15T20:12:29.168893Z",
     "start_time": "2024-06-15T20:12:29.140007Z"
    }
   },
   "cell_type": "code",
   "source": [
    "a = 'asd.ghjk'\n",
    "b = re.split(r\"\\.\", a)\n",
    "b"
   ],
   "id": "fc6c3d65a2d1a6d1",
   "outputs": [
    {
     "data": {
      "text/plain": [
       "['asd', 'ghjk']"
      ]
     },
     "execution_count": 8,
     "metadata": {},
     "output_type": "execute_result"
    }
   ],
   "execution_count": 8
  },
  {
   "metadata": {
    "ExecuteTime": {
     "end_time": "2024-06-15T20:12:45.987249Z",
     "start_time": "2024-06-15T20:12:32.542529Z"
    }
   },
   "cell_type": "code",
   "source": [
    "# заменить слэши\n",
    "filename = str(input())\n",
    "fn_slash = re.sub(r'\\\\', r'/', filename)\n",
    "print(fn_slash)"
   ],
   "id": "3153f2fd537cf3af",
   "outputs": [
    {
     "name": "stdout",
     "output_type": "stream",
     "text": [
      "C:/sys_work/Summary-System/audio_data_types.ogg\n"
     ]
    }
   ],
   "execution_count": 9
  },
  {
   "metadata": {},
   "cell_type": "code",
   "execution_count": null,
   "source": "",
   "id": "b98f065cb5f07a3f",
   "outputs": []
  }
 ],
 "metadata": {
  "kernelspec": {
   "display_name": "Python 3",
   "language": "python",
   "name": "python3"
  },
  "language_info": {
   "codemirror_mode": {
    "name": "ipython",
    "version": 2
   },
   "file_extension": ".py",
   "mimetype": "text/x-python",
   "name": "python",
   "nbconvert_exporter": "python",
   "pygments_lexer": "ipython2",
   "version": "2.7.6"
  }
 },
 "nbformat": 4,
 "nbformat_minor": 5
}
